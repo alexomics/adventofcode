{
 "cells": [
  {
   "cell_type": "markdown",
   "metadata": {},
   "source": [
    "The polymer is formed by smaller units which, when triggered, react with each other such that two adjacent units of the same type and opposite polarity are destroyed. Units' types are represented by letters; units' polarity is represented by capitalization. For instance, r and R are units with the same type but opposite polarity, whereas r and s are entirely different types and do not react.\n",
    "\n",
    "For example:\n",
    "\n",
    "In aA, a and A react, leaving nothing behind.\n",
    "In abBA, bB destroys itself, leaving aA. As above, this then destroys itself, leaving nothing.\n",
    "In abAB, no two adjacent units are of the same type, and so nothing happens.\n",
    "In aabAAB, even though aa and AA are of the same type, their polarities match, and so nothing happens.\n",
    "Now, consider a larger example, `dabAcCaCBAcCcaDA`:\n",
    "```\n",
    "dabAcCaCBAcCcaDA  The first 'cC' is removed.\n",
    "dabAaCBAcCcaDA    This creates 'Aa', which is removed.\n",
    "dabCBAcCcaDA      Either 'cC' or 'Cc' are removed (the result is the same).\n",
    "dabCBAcaDA        No further actions can be taken.\n",
    "```\n",
    "After all possible reactions, the resulting polymer contains 10 units.\n",
    "\n",
    "How many units remain after fully reacting the polymer you scanned?"
   ]
  },
  {
   "cell_type": "code",
   "execution_count": 1,
   "metadata": {},
   "outputs": [],
   "source": [
    "from IPython.display import clear_output, display\n",
    "%load_ext line_profiler"
   ]
  },
  {
   "cell_type": "code",
   "execution_count": 2,
   "metadata": {},
   "outputs": [],
   "source": [
    "def match_pair(n, m):\n",
    "    return n.lower() == m.lower() and n != m"
   ]
  },
  {
   "cell_type": "code",
   "execution_count": 3,
   "metadata": {},
   "outputs": [],
   "source": [
    "test = 'dabAcCaCBAcCcaDA'\n",
    "with open('input.txt') as f:\n",
    "    p = f.read().strip()"
   ]
  },
  {
   "cell_type": "code",
   "execution_count": 63,
   "metadata": {},
   "outputs": [
    {
     "name": "stdout",
     "output_type": "stream",
     "text": [
      "outer loops: 19,141\n",
      "inner loops: 112,127,195\n",
      "11720\n",
      "4min 25s ± 0 ns per loop (mean ± std. dev. of 1 run, 1 loop each)\n"
     ]
    }
   ],
   "source": [
    "%%timeit -n 1 -r 1\n",
    "s = list(p)\n",
    "# s = list(test)\n",
    "s.append('$')\n",
    "loop = True\n",
    "w = 0\n",
    "f = 0\n",
    "while loop:\n",
    "    w += 1\n",
    "    clear_output(wait=True)\n",
    "    print(f\"outer loops: {w:,}\\ninner loops: {f:,}\")\n",
    "    for i, a in enumerate(s):\n",
    "        f += 1\n",
    "        if s[i+1] == '$': \n",
    "            loop = False\n",
    "            break\n",
    "        if match_pair(a, s[i+1]):\n",
    "            s[i], s[i+1] = None, None\n",
    "            break\n",
    "    s = list(filter((None).__ne__, s))\n",
    "s = list(filter(('$').__ne__, s))\n",
    "print(len(s))"
   ]
  },
  {
   "cell_type": "code",
   "execution_count": 4,
   "metadata": {},
   "outputs": [],
   "source": [
    "def collapse_polymer(s):\n",
    "    s.reverse()\n",
    "    rebuild = []\n",
    "    while s:\n",
    "        u = s.pop()\n",
    "        if rebuild and match_pair(u, rebuild[-1]):\n",
    "            rebuild.pop()\n",
    "        else:\n",
    "            rebuild.append(u)\n",
    "    return len(rebuild)"
   ]
  },
  {
   "cell_type": "code",
   "execution_count": 11,
   "metadata": {},
   "outputs": [],
   "source": [
    "%lprun -f collapse_polymer collapse_polymer(list(p))"
   ]
  },
  {
   "cell_type": "code",
   "execution_count": 5,
   "metadata": {},
   "outputs": [],
   "source": [
    "%lprun -f collapse_polymer collapse_polymer(list(test))"
   ]
  },
  {
   "cell_type": "code",
   "execution_count": 65,
   "metadata": {},
   "outputs": [
    {
     "name": "stdout",
     "output_type": "stream",
     "text": [
      "46.7 ms ± 1.25 ms per loop (mean ± std. dev. of 25 runs, 25 loops each)\n"
     ]
    }
   ],
   "source": [
    "%%timeit -r 25 -n 25\n",
    "collapse_polymer(list(p))"
   ]
  },
  {
   "cell_type": "code",
   "execution_count": 6,
   "metadata": {},
   "outputs": [
    {
     "name": "stdout",
     "output_type": "stream",
     "text": [
      "18.9 µs ± 7.08 µs per loop (mean ± std. dev. of 25 runs, 25 loops each)\n"
     ]
    }
   ],
   "source": [
    "%%timeit -r 25 -n 25\n",
    "collapse_polymer(list(test))"
   ]
  },
  {
   "cell_type": "code",
   "execution_count": 66,
   "metadata": {},
   "outputs": [
    {
     "name": "stdout",
     "output_type": "stream",
     "text": [
      "1.55 s ± 8.32 ms per loop (mean ± std. dev. of 7 runs, 1 loop each)\n"
     ]
    }
   ],
   "source": [
    "%%timeit\n",
    "res = []\n",
    "for letter in set(list(p.lower())):\n",
    "    s = list(filter((letter).__ne__, list(p)))\n",
    "    s = list(filter((letter.upper()).__ne__, s))\n",
    "    res.append((letter, collapse_polymer(s)))"
   ]
  },
  {
   "cell_type": "code",
   "execution_count": 31,
   "metadata": {},
   "outputs": [
    {
     "name": "stdout",
     "output_type": "stream",
     "text": [
      "11720\n"
     ]
    }
   ],
   "source": [
    "print(collapse_polymer(list(p)))"
   ]
  },
  {
   "cell_type": "code",
   "execution_count": 62,
   "metadata": {},
   "outputs": [
    {
     "data": {
      "text/plain": [
       "('w', 4956)"
      ]
     },
     "execution_count": 62,
     "metadata": {},
     "output_type": "execute_result"
    }
   ],
   "source": [
    "min(res, key=lambda x: x[1])"
   ]
  }
 ],
 "metadata": {
  "kernelspec": {
   "display_name": "Python 3",
   "language": "python",
   "name": "python3"
  },
  "language_info": {
   "codemirror_mode": {
    "name": "ipython",
    "version": 3
   },
   "file_extension": ".py",
   "mimetype": "text/x-python",
   "name": "python",
   "nbconvert_exporter": "python",
   "pygments_lexer": "ipython3",
   "version": "3.6.2"
  }
 },
 "nbformat": 4,
 "nbformat_minor": 2
}
